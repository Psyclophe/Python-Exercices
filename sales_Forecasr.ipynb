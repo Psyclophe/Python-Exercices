{
  "nbformat": 4,
  "nbformat_minor": 0,
  "metadata": {
    "colab": {
      "provenance": [],
      "authorship_tag": "ABX9TyO1SZz9aNhjo9w5bAWgK5qq",
      "include_colab_link": true
    },
    "kernelspec": {
      "name": "python3",
      "display_name": "Python 3"
    },
    "language_info": {
      "name": "python"
    }
  },
  "cells": [
    {
      "cell_type": "markdown",
      "metadata": {
        "id": "view-in-github",
        "colab_type": "text"
      },
      "source": [
        "<a href=\"https://colab.research.google.com/github/Psyclophe/Python-Exercices/blob/main/sales_Forecasr.ipynb\" target=\"_parent\"><img src=\"https://colab.research.google.com/assets/colab-badge.svg\" alt=\"Open In Colab\"/></a>"
      ]
    },
    {
      "cell_type": "code",
      "execution_count": 6,
      "metadata": {
        "id": "sniIiEJ6zo9m"
      },
      "outputs": [],
      "source": [
        "import pandas as pd\n",
        "import matplotlib.pyplot as plt\n",
        "from xgboost import XGBRegressor\n",
        "from sklearn.emsamble import RandomForestRegressor\n",
        "from sklearn.preprocessing import MimMaxScaler\n",
        "from sklearn.metrics import mean_absolute_error, mean_square_error, r2_score\n",
        "from tensorflow.keras.models import Squential\n",
        "from tensorflow.keras.layers import dense, LSTM\n",
        "from tensorflow.keras.callback import earlyStopping, ModelCheckpoint\n"
      ]
    },
    {
      "cell_type": "code",
      "source": [],
      "metadata": {
        "id": "nb5gER0_0uI6"
      },
      "execution_count": null,
      "outputs": []
    }
  ]
}